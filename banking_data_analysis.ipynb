{
 "cells": [
  {
   "cell_type": "markdown",
   "id": "98636aa3",
   "metadata": {},
   "source": [
    "# Banking Data Analysis Notebook\n",
    "This notebook fetches stock data for major banks and performs basic analysis including price trends and return correlations."
   ]
  },
  {
   "cell_type": "code",
   "execution_count": null,
   "id": "301f9779",
   "metadata": {},
   "outputs": [],
   "source": [
    "!pip install yfinance"
   ]
  },
  {
   "cell_type": "code",
   "execution_count": null,
   "id": "0adc4490",
   "metadata": {},
   "outputs": [],
   "source": [
    "import pandas as pd\n",
    "import matplotlib.pyplot as plt\n",
    "from datetime import datetime\n",
    "import yfinance as yf"
   ]
  },
  {
   "cell_type": "code",
   "execution_count": null,
   "id": "0f81b57b",
   "metadata": {},
   "outputs": [],
   "source": [
    "tickers = ['JPM', 'BAC', 'C', 'WFC', 'GS']\n",
    "start = '2020-01-01'\n",
    "end = datetime.today().strftime('%Y-%m-%d')\n",
    "data = yf.download(tickers, start=start, end=end)['Adj Close']\n",
    "data.head()"
   ]
  },
  {
   "cell_type": "code",
   "execution_count": null,
   "id": "edc1dec1",
   "metadata": {},
   "outputs": [],
   "source": [
    "plt.figure(figsize=(12, 6))\n",
    "data.plot()\n",
    "plt.title(\"Adjusted Close Prices of Major Banks\")\n",
    "plt.xlabel(\"Date\")\n",
    "plt.ylabel(\"Price\")\n",
    "plt.show()"
   ]
  },
  {
   "cell_type": "code",
   "execution_count": null,
   "id": "4277263f",
   "metadata": {},
   "outputs": [],
   "source": [
    "returns = data.pct_change().dropna()\n",
    "returns.describe()"
   ]
  },
  {
   "cell_type": "code",
   "execution_count": null,
   "id": "e4e60f8c",
   "metadata": {},
   "outputs": [],
   "source": [
    "plt.figure(figsize=(8, 6))\n",
    "plt.matshow(returns.corr(), fignum=1)\n",
    "plt.xticks(range(len(tickers)), tickers)\n",
    "plt.yticks(range(len(tickers)), tickers)\n",
    "plt.title(\"Correlation Matrix of Daily Returns\")\n",
    "plt.colorbar()\n",
    "plt.show()"
   ]
  }
 ],
 "metadata": {},
 "nbformat": 4,
 "nbformat_minor": 5
}
